{
 "cells": [
  {
   "cell_type": "markdown",
   "source": [
    "# This script retrieves the structures in complex with the molecules from parquet."
   ],
   "metadata": {
    "collapsed": false
   }
  },
  {
   "cell_type": "code",
   "execution_count": 1,
   "outputs": [],
   "source": [
    "molecule = '/Users/marinegirardey/Documents/OpenTargetInternship/molecule'\n",
    "unichem = '/Users/marinegirardey/Documents/OpenTargetInternship/id_files/src1src3.txt'\n",
    "ensembl = 'chain_ensembl_struct_mol_joined.csv'"
   ],
   "metadata": {
    "collapsed": false,
    "pycharm": {
     "name": "#%%\n"
    }
   }
  },
  {
   "cell_type": "code",
   "execution_count": 2,
   "outputs": [],
   "source": [
    "import requests\n",
    "import timeit\n",
    "import pyspark.sql.functions as f\n",
    "from pyspark.sql import SparkSession"
   ],
   "metadata": {
    "collapsed": false,
    "pycharm": {
     "name": "#%%\n"
    }
   }
  },
  {
   "cell_type": "code",
   "execution_count": 3,
   "outputs": [
    {
     "name": "stderr",
     "output_type": "stream",
     "text": [
      "WARNING: An illegal reflective access operation has occurred\n",
      "WARNING: Illegal reflective access by org.apache.spark.unsafe.Platform (file:/Users/marinegirardey/miniforge3/envs/test_env/lib/python3.8/site-packages/pyspark/jars/spark-unsafe_2.12-3.2.1.jar) to constructor java.nio.DirectByteBuffer(long,int)\n",
      "WARNING: Please consider reporting this to the maintainers of org.apache.spark.unsafe.Platform\n",
      "WARNING: Use --illegal-access=warn to enable warnings of further illegal reflective access operations\n",
      "WARNING: All illegal access operations will be denied in a future release\n",
      "Using Spark's default log4j profile: org/apache/spark/log4j-defaults.properties\n",
      "Setting default log level to \"WARN\".\n",
      "To adjust logging level use sc.setLogLevel(newLevel). For SparkR, use setLogLevel(newLevel).\n",
      "22/02/25 13:51:40 WARN NativeCodeLoader: Unable to load native-hadoop library for your platform... using builtin-java classes where applicable\n"
     ]
    }
   ],
   "source": [
    "spark = SparkSession.builder.getOrCreate()"
   ],
   "metadata": {
    "collapsed": false,
    "pycharm": {
     "name": "#%%\n"
    }
   }
  },
  {
   "cell_type": "code",
   "execution_count": 4,
   "outputs": [],
   "source": [
    "def get_structure(pdb_id):\n",
    "    \"\"\"\n",
    "    Scrap the list of structures in complex with each molecule from PDBe API\n",
    "    Function to apply to a df column\n",
    "    --------------\n",
    "    Keyword arguments\n",
    "        pdb_id: id of the molecule for whom we want to know the structures associated\n",
    "    --------------\n",
    "    Return\n",
    "        data[pdb_id] : data is a dictionary, we want the value which is the list of structures\n",
    "    \"\"\"\n",
    "    url = f'https://www.ebi.ac.uk/pdbe/api/pdb/compound/in_pdb/{pdb_id}'\n",
    "    response = requests.get(url)\n",
    "    try:\n",
    "        data = response.json()\n",
    "        return data[pdb_id]\n",
    "    except:\n",
    "        if len(response.json()) == 0:\n",
    "            return []"
   ],
   "metadata": {
    "collapsed": false,
    "pycharm": {
     "name": "#%%\n"
    }
   }
  },
  {
   "cell_type": "code",
   "execution_count": 5,
   "outputs": [],
   "source": [
    "def create_pdb_target_gene_df(path_id_file, unichem_molecule_struct_spark_df):\n",
    "\n",
    "    pdb_chain_ensembl = spark.read.csv(path_id_file, sep=',', header=True, comment='#')\n",
    "    pdb_chain_ensembl = pdb_chain_ensembl.select('PDB', 'GENE_ID').distinct()\n",
    "\n",
    "    # print('----- STRUCTURE & TARGET -----')\n",
    "    # pdb_chain_ensembl.show()\n",
    "\n",
    "    exploded_df = (unichem_molecule_struct_spark_df\n",
    "                   .select('MOLECULE_PDB_ID',\n",
    "                           'MOLECULE_CHEMBL_ID',\n",
    "                           f.explode(unichem_molecule_struct_spark_df.STRUCTURE_ID)))\n",
    "\n",
    "    # print('----- STRUCTURE & TARGET EXPLODED -----')\n",
    "    # exploded_df.show()\n",
    "\n",
    "    chain_ensembl_struct_mol_joined = (pdb_chain_ensembl\n",
    "                                       .join(exploded_df, pdb_chain_ensembl[\"PDB\"] == exploded_df[\"col\"])\n",
    "                                       .drop('col'))\n",
    "\n",
    "    return chain_ensembl_struct_mol_joined"
   ],
   "metadata": {
    "collapsed": false,
    "pycharm": {
     "name": "#%%\n"
    }
   }
  },
  {
   "cell_type": "code",
   "execution_count": 6,
   "outputs": [],
   "source": [
    "# TIMER 1 START\n",
    "start_1 = timeit.default_timer()"
   ],
   "metadata": {
    "collapsed": false,
    "pycharm": {
     "name": "#%%\n"
    }
   }
  },
  {
   "cell_type": "code",
   "execution_count": 7,
   "outputs": [
    {
     "name": "stderr",
     "output_type": "stream",
     "text": [
      "                                                                                \r"
     ]
    }
   ],
   "source": [
    "# ----- GET MOLECULE ID -----\n",
    "# Molecule DataFrame\n",
    "molecule_df = (\n",
    "    spark.read\n",
    "    .parquet(molecule)\n",
    "    .select(f.col('id'))\n",
    "    .withColumnRenamed('id', 'MOLECULE_CHEMBL_ID')\n",
    ")"
   ],
   "metadata": {
    "collapsed": false,
    "pycharm": {
     "name": "#%%\n"
    }
   }
  },
  {
   "cell_type": "code",
   "execution_count": 8,
   "outputs": [],
   "source": [
    "# ----- GET PDB ID -----\n",
    "# Unichem molecules DataFrame\n",
    "unichem_df = spark.read.csv(unichem, sep=r'\\t', header=True)\n",
    "\n",
    "# Join Unichem and Molecule DataFrame\n",
    "unichem_molecule_df = (molecule_df\n",
    "                       .join(unichem_df, unichem_df[\"From src:'1'\"] == molecule_df['MOLECULE_CHEMBL_ID'])\n",
    "                       .withColumnRenamed(\"To src:'3'\", 'MOLECULE_PDB_ID')\n",
    "                       .drop(\"From src:'1'\")\n",
    "                       )"
   ],
   "metadata": {
    "collapsed": false,
    "pycharm": {
     "name": "#%%\n"
    }
   }
  },
  {
   "cell_type": "code",
   "execution_count": 9,
   "outputs": [],
   "source": [
    "# TIMER 2 START\n",
    "start_2 = timeit.default_timer()"
   ],
   "metadata": {
    "collapsed": false,
    "pycharm": {
     "name": "#%%\n"
    }
   }
  },
  {
   "cell_type": "code",
   "execution_count": null,
   "outputs": [
    {
     "name": "stderr",
     "output_type": "stream",
     "text": [
      "                                                                                \r"
     ]
    }
   ],
   "source": [
    "# ----- GET STRUCTURE ID -----\n",
    "# Apply get_structure function on the Unichem-Molecule DataFrame\n",
    "\n",
    "unichem_molecule_struct_pd_df = (unichem_molecule_df\n",
    "                                 .toPandas()\n",
    "                                 .assign(STRUCTURE_ID=lambda x: x['MOLECULE_PDB_ID'].apply(get_structure))\n",
    "                                 )"
   ],
   "metadata": {
    "collapsed": false,
    "pycharm": {
     "name": "#%%\n",
     "is_executing": true
    }
   }
  },
  {
   "cell_type": "code",
   "execution_count": null,
   "outputs": [],
   "source": [
    "unichem_molecule_struct_pd_df.to_csv('structure_of_molecules.csv', index=False, header=True)"
   ],
   "metadata": {
    "collapsed": false,
    "pycharm": {
     "name": "#%%\n"
    }
   }
  },
  {
   "cell_type": "code",
   "execution_count": null,
   "outputs": [],
   "source": [
    "# Convert Spark DataFrame into Pandas DataFrame\n",
    "unichem_molecule_struct_spark_df = spark.createDataFrame(unichem_molecule_struct_pd_df)"
   ],
   "metadata": {
    "collapsed": false,
    "pycharm": {
     "name": "#%%\n"
    }
   }
  },
  {
   "cell_type": "code",
   "execution_count": null,
   "outputs": [],
   "source": [
    "# Count number of structure per molecule\n",
    "unichem_molecule_struct_spark_df = (unichem_molecule_struct_spark_df\n",
    "                                    .withColumn(\"NB_OF_STRUCT_PER_MOL\", f.size(f.col(\"STRUCTURE_ID\")))\n",
    "                                    .orderBy(f.desc(\"NB_OF_STRUCT_PER_MOL\"))\n",
    "                                    )"
   ],
   "metadata": {
    "collapsed": false,
    "pycharm": {
     "name": "#%%\n"
    }
   }
  },
  {
   "cell_type": "code",
   "execution_count": null,
   "outputs": [],
   "source": [
    "unichem_molecule_struct_spark_df = (unichem_molecule_struct_spark_df\n",
    "                                    .filter(f.col('MOLECULE_CHEMBL_ID') != 'CHEMBL692')\n",
    "                                    .filter(f.col('MOLECULE_CHEMBL_ID') != 'CHEMBL1236970')\n",
    "                                    .filter(f.col('MOLECULE_CHEMBL_ID') != 'CHEMBL457299')\n",
    "                                    .filter(f.col('MOLECULE_CHEMBL_ID') != 'CHEMBL113178')\n",
    "                                    .select('MOLECULE_CHEMBL_ID', 'MOLECULE_PDB_ID', 'STRUCTURE_ID'))"
   ],
   "metadata": {
    "collapsed": false,
    "pycharm": {
     "name": "#%%\n"
    }
   }
  },
  {
   "cell_type": "code",
   "execution_count": null,
   "outputs": [],
   "source": [
    "# Save into a CSV\n",
    "unichem_molecule_struct_spark_df.toPandas().to_csv(\"molecule_structure_target.csv\", index=False, header=True)"
   ],
   "metadata": {
    "collapsed": false,
    "pycharm": {
     "name": "#%%\n"
    }
   }
  },
  {
   "cell_type": "code",
   "execution_count": null,
   "outputs": [],
   "source": [
    "# TIMER 2 STOP\n",
    "stop_2 = timeit.default_timer()"
   ],
   "metadata": {
    "collapsed": false,
    "pycharm": {
     "name": "#%%\n"
    }
   }
  },
  {
   "cell_type": "code",
   "execution_count": null,
   "outputs": [],
   "source": [
    "# ----- GET TARGET ID -----\n",
    "pdb_target_df = create_pdb_target_gene_df(ensembl, unichem_molecule_struct_spark_df)"
   ],
   "metadata": {
    "collapsed": false,
    "pycharm": {
     "name": "#%%\n"
    }
   }
  },
  {
   "cell_type": "code",
   "execution_count": null,
   "outputs": [],
   "source": [
    "# ----- STATISTICS -----\n",
    "total_nb_unichem = unichem_df.count()\n",
    "total_nb_molecule = molecule_df.count()\n",
    "nb_mol_in_unichem = unichem_molecule_df.count()"
   ],
   "metadata": {
    "collapsed": false,
    "pycharm": {
     "name": "#%%\n"
    }
   }
  },
  {
   "cell_type": "code",
   "execution_count": null,
   "outputs": [],
   "source": [
    "total_nb_struct = unichem_molecule_struct_spark_df.withColumn('STRUCTURE_ID', f.explode('STRUCTURE_ID')).select(\n",
    "    'STRUCTURE_ID').distinct().count()"
   ],
   "metadata": {
    "collapsed": false,
    "pycharm": {
     "name": "#%%\n"
    }
   }
  },
  {
   "cell_type": "code",
   "execution_count": null,
   "outputs": [],
   "source": [
    "nb_target_pd = pdb_target_df.count()\n",
    "nb_human_target = pdb_target_df.filter(pdb_target_df.GENE_ID.startswith('ENSG')).count()"
   ],
   "metadata": {
    "collapsed": false,
    "pycharm": {
     "name": "#%%\n"
    }
   }
  },
  {
   "cell_type": "code",
   "execution_count": null,
   "outputs": [],
   "source": [
    "count_distinct_target_pd_df = pdb_target_df.groupBy('GENE_ID').count().toPandas()\n",
    "nb_molecule_without_struct = unichem_molecule_struct_spark_df.filter(f.size('STRUCTURE_ID') == 0).count()"
   ],
   "metadata": {
    "collapsed": false,
    "pycharm": {
     "name": "#%%\n"
    }
   }
  },
  {
   "cell_type": "code",
   "execution_count": null,
   "outputs": [],
   "source": [
    "nb_non_human_target = nb_target_pd - nb_human_target"
   ],
   "metadata": {
    "collapsed": false,
    "pycharm": {
     "name": "#%%\n"
    }
   }
  },
  {
   "cell_type": "code",
   "execution_count": null,
   "outputs": [],
   "source": [
    "# TIMER 1 STOP\n",
    "stop_1 = timeit.default_timer()"
   ],
   "metadata": {
    "collapsed": false,
    "pycharm": {
     "name": "#%%\n"
    }
   }
  },
  {
   "cell_type": "code",
   "execution_count": null,
   "outputs": [],
   "source": [
    "statistics = [\n",
    "    ['Total molecules in UniChem database', total_nb_unichem],\n",
    "    ['Molecules in parquet', total_nb_molecule],\n",
    "    ['Molecules from parquet found in UniChem', nb_mol_in_unichem],\n",
    "    ['Percentage of parquet molecule found in UniChem', int(round((nb_mol_in_unichem / total_nb_molecule) * 100, 2))],\n",
    "    ['Total structures', total_nb_struct],\n",
    "    ['Molecules without structure', nb_molecule_without_struct],\n",
    "    ['Total targets', nb_target_pd],\n",
    "    ['Human target', nb_human_target],\n",
    "    ['None human target', nb_non_human_target],\n",
    "    ['Total time running', int(round(stop_1 - start_1, 2))],\n",
    "    ['Time for scrap structure on API', int(round(stop_2 - start_2, 2))]\n",
    "]\n",
    "\n",
    "columns = [\"Stats\", \"Count\"]"
   ],
   "metadata": {
    "collapsed": false,
    "pycharm": {
     "name": "#%%\n"
    }
   }
  },
  {
   "cell_type": "code",
   "execution_count": null,
   "outputs": [],
   "source": [
    "stats_df = spark.createDataFrame(statistics, columns)"
   ],
   "metadata": {
    "collapsed": false,
    "pycharm": {
     "name": "#%%\n"
    }
   }
  },
  {
   "cell_type": "code",
   "execution_count": null,
   "metadata": {
    "collapsed": true
   },
   "outputs": [],
   "source": [
    "print('----STATISTICS----')\n",
    "stats_df.show(truncate=False)\n",
    "print('----MOLECULE----')\n",
    "molecule_df.show()\n",
    "print('----UNICHEM MOLECULE----')\n",
    "unichem_df.show()\n",
    "print('----OUR MOLECULE IN UNICHEM (PDB ID)----')\n",
    "unichem_molecule_df.show()\n",
    "print('----STRUCTURE----')\n",
    "unichem_molecule_struct_spark_df.show()\n",
    "print('----TARGET----')\n",
    "pdb_target_df.show()\n",
    "\n",
    "print('Process finished!')"
   ]
  }
 ],
 "metadata": {
  "kernelspec": {
   "display_name": "Python 3",
   "language": "python",
   "name": "python3"
  },
  "language_info": {
   "codemirror_mode": {
    "name": "ipython",
    "version": 2
   },
   "file_extension": ".py",
   "mimetype": "text/x-python",
   "name": "python",
   "nbconvert_exporter": "python",
   "pygments_lexer": "ipython2",
   "version": "2.7.6"
  }
 },
 "nbformat": 4,
 "nbformat_minor": 0
}