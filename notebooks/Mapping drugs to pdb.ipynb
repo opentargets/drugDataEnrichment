{
 "cells": [
  {
   "cell_type": "markdown",
   "id": "726e6054",
   "metadata": {},
   "source": [
    "# Joining molecule data\n",
    "\n",
    "## Mapping molecules to pdb structures\n",
    "\n",
    "**Data source**:\n",
    "\n",
    "* Open Targets molecule index: `gs://ot-snapshots/etl/outputs/21.04.2/parquet/molecule`\n",
    "* PDBe Chem dataset used to [Chemical Component Dictionary identifier](https://www.wwpdb.org/data/ccd) to [inchiKeys](https://en.wikipedia.org/wiki/International_Chemical_Identifier#InChIKey): `ftp://ftp.ebi.ac.uk/pub/databases/msd/pdbechem_v2/components_inchikeys.csv`\n",
    "* ePDB-KB REST API for retrieving pdb structures with the given compound (CCD) identifiers in complex.\n",
    "\n",
    "## Mapping chains in pdb structures to uniprot/ensembl\n",
    "\n",
    "**data source**:\n",
    "\n",
    "* SIFTS dataset downloaded from EBI ftp: `ftp://ftp.ebi.ac.uk/pub/databases/msd/sifts/flatfiles/csv/pdb_chain_ensembl.csv.gz`"
   ]
  },
  {
   "cell_type": "code",
   "execution_count": 6,
   "id": "89df987a",
   "metadata": {
    "ExecuteTime": {
     "end_time": "2022-04-21T23:30:13.805761Z",
     "start_time": "2022-04-21T23:29:46.544645Z"
    },
    "scrolled": false
   },
   "outputs": [
    {
     "name": "stdout",
     "output_type": "stream",
     "text": [
      "total 20792\n",
      "drwxr-xr-x   6 dsuveges  384566875   192B 22 Apr 00:30 .\n",
      "drwxrwxr-x   6 dsuveges  384566875   192B 22 Apr 00:27 ..\n",
      "-rw-r--r--   1 dsuveges  384566875   1.2M 22 Apr 00:30 components_inchikeys.csv\n",
      "drwxr-xr-x  70 dsuveges  384566875   2.2K 22 Apr 00:30 molecule\n",
      "-rw-r--r--   1 dsuveges  384566875   8.6M 22 Apr 00:30 pdb_chain_ensembl.csv.gz\n",
      "drwxr-xr-x  29 dsuveges  384566875   928B 22 Apr 00:30 targets\n"
     ]
    }
   ],
   "source": [
    "%%bash\n",
    "\n",
    "# Create folders for data:\n",
    "mkdir -p data\n",
    "rm -rf data/*\n",
    "\n",
    "# Fetch molecule index:\n",
    "gsutil cp -r gs://ot-snapshots/etl/outputs/21.04.2/parquet/molecule data/ 2> /dev/null\n",
    "\n",
    "# Fetch target index:\n",
    "gsutil cp -r gs://ot-snapshots/etl/outputs/21.04.2/parquet/targets data/ 2> /dev/null\n",
    "\n",
    "# Fetch pdbeChem mapping file:\n",
    "wget -q ftp://ftp.ebi.ac.uk/pub/databases/msd/pdbechem_v2/components_inchikeys.csv -P data/\n",
    "\n",
    "# Fetch SIFTS mapping file:\n",
    "wget -q ftp://ftp.ebi.ac.uk/pub/databases/msd/sifts/flatfiles/csv/pdb_chain_ensembl.csv.gz -P data/\n",
    "ls -lah data/"
   ]
  },
  {
   "cell_type": "markdown",
   "id": "f3d0a0a5",
   "metadata": {},
   "source": [
    "### Stats on the input files:"
   ]
  },
  {
   "cell_type": "code",
   "execution_count": 10,
   "id": "b5b1435e",
   "metadata": {
    "ExecuteTime": {
     "end_time": "2022-04-21T23:41:01.512110Z",
     "start_time": "2022-04-21T23:41:01.505765Z"
    }
   },
   "outputs": [],
   "source": [
    "import pandas as pd\n",
    "import json\n",
    "import requests\n",
    "\n",
    "from pyspark.sql.types import ArrayType, StringType, IntegerType\n",
    "from pyspark.sql import SparkSession\n",
    "import pyspark.sql.functions as f\n",
    "\n",
    "# establish spark connection\n",
    "spark = (\n",
    "    SparkSession.builder\n",
    "    .master('local[*]')\n",
    "    .getOrCreate()\n",
    ")\n"
   ]
  },
  {
   "cell_type": "markdown",
   "id": "cc38cd81",
   "metadata": {},
   "source": [
    "#### Molecule index/CCD index and the joined dataset"
   ]
  },
  {
   "cell_type": "code",
   "execution_count": 13,
   "id": "69a3861a",
   "metadata": {
    "ExecuteTime": {
     "end_time": "2022-04-21T23:42:54.698911Z",
     "start_time": "2022-04-21T23:42:53.787111Z"
    }
   },
   "outputs": [
    {
     "name": "stdout",
     "output_type": "stream",
     "text": [
      "Number of molecules: 13076\n",
      "Number of molecules without inchiKeys: 2268\n"
     ]
    }
   ],
   "source": [
    "molecules = (\n",
    "    spark.read.parquet('data/molecule/')\n",
    "    .select(\n",
    "        f.col('id').alias('chemblId'),\n",
    "        f.col('inchiKey'),\n",
    "        f.col('name')\n",
    "    )\n",
    "    .distinct()\n",
    "    .persist()\n",
    ")\n",
    "\n",
    "# Get some basic stats:\n",
    "print(f'Number of molecules: {molecules.count()}')\n",
    "print(f'Number of molecules without inchiKeys: {molecules.filter(f.col(\"inchiKey\").isNull()).count()}')"
   ]
  },
  {
   "cell_type": "code",
   "execution_count": 25,
   "id": "ac7dc89f",
   "metadata": {
    "ExecuteTime": {
     "end_time": "2022-04-21T23:49:03.620714Z",
     "start_time": "2022-04-21T23:49:03.073737Z"
    }
   },
   "outputs": [
    {
     "name": "stdout",
     "output_type": "stream",
     "text": [
      "Number of molecules: 36905\n",
      "Number of molecules without inchiKeys: 137\n"
     ]
    }
   ],
   "source": [
    "inchikey_mapping = (\n",
    "    spark.read.csv('data/components_inchikeys.csv', sep=',', header=True)\n",
    "    .withColumnRenamed('inchiKey', 'InChIKey')\n",
    "    .withColumnRenamed('CCD_ID', 'compoundId')\n",
    "    .persist()\n",
    ")\n",
    "\n",
    "# Get some basic stats:\n",
    "print(f'Number of molecules: {inchikey_mapping.count()}')\n",
    "print(f'Number of molecules without inchiKeys: {inchikey_mapping.filter(f.col(\"inchiKey\").isNull()).count()}')\n"
   ]
  },
  {
   "cell_type": "code",
   "execution_count": 35,
   "id": "6cce4f44",
   "metadata": {
    "ExecuteTime": {
     "end_time": "2022-04-21T23:59:00.408406Z",
     "start_time": "2022-04-21T23:58:59.847175Z"
    }
   },
   "outputs": [
    {
     "name": "stdout",
     "output_type": "stream",
     "text": [
      "Number of inchy keys with multiple compounds: 221\n",
      "+---------------------------+-----------------------------+\n",
      "|inchiKey                   |compoundIds                  |\n",
      "+---------------------------+-----------------------------+\n",
      "|XLYOFNOQVPJJNP-UHFFFAOYAF  |[DIS, OX, GTE, MTO, QTR, OXO]|\n",
      "|DJZPHYIXNUOVJU-VYUIOLGVSA-N|[50M, 53M, 53L, 54Q]         |\n",
      "|RWSXRVCMGQZWBV-WDSKDSINSA-O|[GTT, VDW, 0P0]              |\n",
      "|SNDPXSYFESPGGJ-XWEZEGGSDX  |[2PI, BTA, RON]              |\n",
      "|IIXWYSCJSQVBQM-LLVKDONJSA-N|[QB4, 53P, 5P8]              |\n",
      "|QGZKDVFQNNGYKY-UHFFFAOYAF  |[NGN, NH, NH2]               |\n",
      "|LTFMZDNNPPEQNG-KVQBGUIXSA-N|[DGP, PG7, DG]               |\n",
      "|LFQSCWFLJHTTHZ-UHFFFAOYAB  |[EOX, OHE, OXA]              |\n",
      "|NLTUCYMLOPLUHL-KQYNXXCUSA-N|[SAP, AGS, ATG]              |\n",
      "|VOKZMFPBFFRNPZ-IVZWLZJFSA-N|[4PD, 4PE, 4PC]              |\n",
      "|FHBXKBNKQMSUIJ-SHYZEUOFSA-N|[C7R, C7S, SC]               |\n",
      "|RQFCJASXJCIDSX-UUOKFMHZSA-N|[G25, G, 5GP]                |\n",
      "|HAEJPQIATWHALX-KQYNXXCUSA-N|[CZU, ITT]                   |\n",
      "|NDDWTTUSJLUGKF-CZKCSJLSSA-N|[K7J, 0ZO]                   |\n",
      "|CKLJMWTZIZZHCS-REOHCLBHSA-N|[IAS, ASP]                   |\n",
      "|PIQIDTLVJACCCC-BBBLOLIVSA-N|[XTR, HDP]                   |\n",
      "|PWKSKIMOESPYIA-BYPYZUCNSA-N|[SC2, 1ZT]                   |\n",
      "|UYWQUFXKFGHYNT-UHFFFAOYAZ  |[BZO, CBZ]                   |\n",
      "|MSTNYGQPCMXVAQ-RYUDHWBXSA-N|[THG, THL]                   |\n",
      "|URGJWIFLBWJRMF-JGVFFNPUSA-N|[23T, D3T]                   |\n",
      "+---------------------------+-----------------------------+\n",
      "only showing top 20 rows\n",
      "\n"
     ]
    }
   ],
   "source": [
    "# There are duplications:\n",
    "ambiguity = (\n",
    "    inchikey_mapping\n",
    "    .filter(f.col('inchiKey').isNotNull())\n",
    "    .groupBy('inchiKey')\n",
    "    .agg(\n",
    "        f.collect_set(f.col('compoundId')).alias('compoundIds')\n",
    "    )\n",
    "    .filter(f.size(f.col('compoundIds')) > 1)\n",
    "    .orderBy(f.size(f.col('compoundIds')), ascending=False)\n",
    "    .persist()\n",
    ")\n",
    "\n",
    "print(f'Number of inchy keys with multiple compounds: {ambiguity.count()}')\n",
    "ambiguity.show(truncate=False)"
   ]
  },
  {
   "cell_type": "code",
   "execution_count": 37,
   "id": "2d1cb38f",
   "metadata": {
    "ExecuteTime": {
     "end_time": "2022-04-22T00:00:16.108749Z",
     "start_time": "2022-04-22T00:00:15.985608Z"
    }
   },
   "outputs": [
    {
     "name": "stdout",
     "output_type": "stream",
     "text": [
      "Number of compound ids with multiple inchi keys: 0\n",
      "+----------+--------+\n",
      "|compoundId|inchiKey|\n",
      "+----------+--------+\n",
      "+----------+--------+\n",
      "\n"
     ]
    }
   ],
   "source": [
    "# There are duplications:\n",
    "ambiguity = (\n",
    "    inchikey_mapping\n",
    "    .filter(f.col('compoundId').isNotNull())\n",
    "    .groupBy('compoundId')\n",
    "    .agg(\n",
    "        f.collect_set(f.col('inchiKey')).alias('inchiKey')\n",
    "    )\n",
    "    .filter(f.size(f.col('inchiKey')) > 1)\n",
    "    .orderBy(f.size(f.col('inchiKey')), ascending=False)\n",
    "    .persist()\n",
    ")\n",
    "\n",
    "print(f'Number of compound ids with multiple inchi keys: {ambiguity.count()}')\n",
    "ambiguity.show(truncate=False)"
   ]
  },
  {
   "cell_type": "code",
   "execution_count": 39,
   "id": "b1956a8d",
   "metadata": {
    "ExecuteTime": {
     "end_time": "2022-04-22T00:04:17.631689Z",
     "start_time": "2022-04-22T00:04:15.953216Z"
    }
   },
   "outputs": [
    {
     "name": "stdout",
     "output_type": "stream",
     "text": [
      "Number of overlapping molecules: 3727\n",
      "Ambiguity in the joining: 3671\n"
     ]
    }
   ],
   "source": [
    "molecule_w_compounds = (\n",
    "    molecules\n",
    "    .join(inchikey_mapping, on='inchiKey', how='inner')\n",
    "    .drop('inchiKey')\n",
    "    .persist()\n",
    ")\n",
    "\n",
    "# Get some basic stats:\n",
    "print(f'Number of overlapping molecules: {molecule_w_compounds.count()}')\n",
    "print(f'Ambiguity in the joining: {molecule_w_compounds.select(f.col(\"chemblId\")).distinct().count()}')\n"
   ]
  },
  {
   "cell_type": "code",
   "execution_count": 42,
   "id": "7814ab29",
   "metadata": {
    "ExecuteTime": {
     "end_time": "2022-04-22T00:07:35.440492Z",
     "start_time": "2022-04-22T00:07:33.694947Z"
    }
   },
   "outputs": [
    {
     "name": "stdout",
     "output_type": "stream",
     "text": [
      "Number of molecules with different compound ids: 52\n",
      "+-------------+-------------------------------------------+---------------+\n",
      "|chemblId     |name                                       |compoundId     |\n",
      "+-------------+-------------------------------------------+---------------+\n",
      "|CHEMBL283807 |CHEMBL283807                               |[G25, G, 5GP]  |\n",
      "|CHEMBL131890 |ATPGAMMAS                                  |[SAP, AGS, ATG]|\n",
      "|CHEMBL3286830|LORLATINIB                                 |[QB4, 53P, 5P8]|\n",
      "|CHEMBL477487 |Deoxyguanosine 5'-Monophosphate            |[DGP, PG7, DG] |\n",
      "|CHEMBL1437   |NOREPINEPHRINE                             |[LT4, LNR]     |\n",
      "|CHEMBL58832  |ASPARAGINE                                 |[ASN, 41Q]     |\n",
      "|CHEMBL1231683|CHEMBL1231683                              |[CCK, ATW]     |\n",
      "|CHEMBL553426 |(R)-2-Aminobutanoic Acid                   |[DBB, AA3]     |\n",
      "|CHEMBL1160508|L-Cysteinesulfinic Acid                    |[CSW, CSD]     |\n",
      "|CHEMBL1160559|QUINALDIC ACID                             |[QND, QNC]     |\n",
      "|CHEMBL197577 |CHEMBL197577                               |[TSO, TSA]     |\n",
      "|CHEMBL1234270|ARFOLITIXORIN                              |[MEF, MHF]     |\n",
      "|CHEMBL1234613|NADIDE                                     |[NAD, NAJ]     |\n",
      "|CHEMBL1081312|CHEMBL1081312                              |[9HE, KS1]     |\n",
      "|CHEMBL582    |ISOPROPYL ALCOHOL                          |[IOH, IPA]     |\n",
      "|CHEMBL14145  |4-Phenylimidazole                          |[231, PIM]     |\n",
      "|CHEMBL1235432|CHEMBL1235432                              |[HNG, PRF]     |\n",
      "|CHEMBL583969 |PHOSPHOMETHYLPHOSPHONIC ACID ADENOSYL ESTER|[A12, AP2]     |\n",
      "|CHEMBL792    |URIC ACID                                  |[8HX, URC]     |\n",
      "|CHEMBL394429 |THYMIDINE MONOPHOSPHATE                    |[TMP, DT]      |\n",
      "+-------------+-------------------------------------------+---------------+\n",
      "only showing top 20 rows\n",
      "\n"
     ]
    }
   ],
   "source": [
    "ambiguity = (\n",
    "    molecule_w_compounds\n",
    "    .groupBy('chemblId', 'name')\n",
    "    .agg(\n",
    "       f.collect_set(f.col('compoundId')).alias('compoundId')\n",
    "    )\n",
    "    .filter(f.size(f.col('compoundId')) > 1)\n",
    "    .orderBy(f.size(f.col('compoundId')), ascending=False)\n",
    ")\n",
    "\n",
    "print(f'Number of molecules with different compound ids: {ambiguity.count()}')\n",
    "ambiguity.show(truncate=False)"
   ]
  },
  {
   "cell_type": "code",
   "execution_count": null,
   "id": "6d6f5902",
   "metadata": {},
   "outputs": [],
   "source": []
  }
 ],
 "metadata": {
  "kernelspec": {
   "display_name": "Python 3",
   "language": "python",
   "name": "python3"
  },
  "language_info": {
   "codemirror_mode": {
    "name": "ipython",
    "version": 3
   },
   "file_extension": ".py",
   "mimetype": "text/x-python",
   "name": "python",
   "nbconvert_exporter": "python",
   "pygments_lexer": "ipython3",
   "version": "3.9.5"
  }
 },
 "nbformat": 4,
 "nbformat_minor": 5
}
